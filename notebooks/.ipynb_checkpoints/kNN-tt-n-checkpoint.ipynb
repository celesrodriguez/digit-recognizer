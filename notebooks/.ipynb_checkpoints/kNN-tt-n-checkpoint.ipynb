{
 "cells": [
  {
   "cell_type": "markdown",
   "metadata": {},
   "source": [
    "# Reconocimiento de dígitos con KNN\n",
    "\n"
   ]
  },
  {
   "cell_type": "markdown",
   "metadata": {},
   "source": [
    "Definir los path al ejecutable de python 3.6 y sus librerías,\n",
    "de acuerdo al virtual env que estén corriendo."
   ]
  },
  {
   "cell_type": "code",
   "execution_count": 1,
   "metadata": {},
   "outputs": [
    {
     "name": "stdout",
     "output_type": "stream",
     "text": [
      "mkdir: cannot create directory ‘build’: File exists\n",
      "-- The C compiler identification is GNU 6.3.0\n",
      "-- The CXX compiler identification is GNU 6.3.0\n",
      "-- Check for working C compiler: /usr/bin/cc\n",
      "-- Check for working C compiler: /usr/bin/cc -- works\n",
      "-- Detecting C compiler ABI info\n",
      "-- Detecting C compiler ABI info - done\n",
      "-- Detecting C compile features\n",
      "-- Detecting C compile features - done\n",
      "-- Check for working CXX compiler: /usr/bin/c++\n",
      "-- Check for working CXX compiler: /usr/bin/c++ -- works\n",
      "-- Detecting CXX compiler ABI info\n",
      "-- Detecting CXX compiler ABI info - done\n",
      "-- Detecting CXX compile features\n",
      "-- Detecting CXX compile features - done\n",
      "Release mode\n",
      "-- Found PythonInterp: /usr/bin/python3 (found version \"3.5.3\") \n",
      "-- Found PythonLibs: /usr/lib/x86_64-linux-gnu/libpython3.5m.so\n",
      "-- pybind11 v2.2.4\n",
      "-- Performing Test HAS_FLTO\n",
      "-- Performing Test HAS_FLTO - Success\n",
      "-- LTO enabled\n",
      "CMAKE_INSTALL_PREFIX=/home/jisus/ftad/current/mn/mn-tps/metnum-tp2\n",
      "-- Configuring done\n",
      "-- Generating done\n",
      "-- Build files have been written to: /home/jisus/ftad/current/mn/mn-tps/metnum-tp2/build\n",
      "\u001b[35m\u001b[1mScanning dependencies of target metnum\u001b[0m\n",
      "[  5%] \u001b[32mBuilding CXX object CMakeFiles/metnum.dir/src/metnum.cpp.o\u001b[0m\n",
      "[ 11%] \u001b[32mBuilding CXX object CMakeFiles/metnum.dir/src/utils.cpp.o\u001b[0m\n",
      "[ 16%] \u001b[32mBuilding CXX object CMakeFiles/metnum.dir/src/knn.cpp.o\u001b[0m\n",
      "[ 22%] \u001b[32mBuilding CXX object CMakeFiles/metnum.dir/src/pca.cpp.o\u001b[0m\n",
      "[ 27%] \u001b[32mBuilding CXX object CMakeFiles/metnum.dir/src/eigen.cpp.o\u001b[0m\n",
      "[ 33%] \u001b[32m\u001b[1mLinking CXX shared module metnum.cpython-35m-x86_64-linux-gnu.so\u001b[0m\n",
      "[ 33%] Built target metnum\n",
      "\u001b[35m\u001b[1mScanning dependencies of target tp2\u001b[0m\n",
      "[ 38%] \u001b[32mBuilding CXX object CMakeFiles/tp2.dir/src/main.cpp.o\u001b[0m\n",
      "[ 44%] \u001b[32mBuilding CXX object CMakeFiles/tp2.dir/src/utils.cpp.o\u001b[0m\n",
      "[ 50%] \u001b[32mBuilding CXX object CMakeFiles/tp2.dir/src/knn.cpp.o\u001b[0m\n",
      "[ 55%] \u001b[32mBuilding CXX object CMakeFiles/tp2.dir/src/pca.cpp.o\u001b[0m\n",
      "[ 61%] \u001b[32mBuilding CXX object CMakeFiles/tp2.dir/src/eigen.cpp.o\u001b[0m\n",
      "[ 66%] \u001b[32m\u001b[1mLinking CXX executable tp2\u001b[0m\n",
      "[ 66%] Built target tp2\n",
      "\u001b[35m\u001b[1mScanning dependencies of target tp2_tests\u001b[0m\n",
      "[ 72%] \u001b[32mBuilding CXX object CMakeFiles/tp2_tests.dir/src/main_test.cpp.o\u001b[0m\n",
      "\u001b[01m\u001b[K/home/jisus/ftad/current/mn/mn-tps/metnum-tp2/src/main_test.cpp:\u001b[m\u001b[K In function ‘\u001b[01m\u001b[Kvoid TestMetodoPotenciaDiagonal()\u001b[m\u001b[K’:\n",
      "\u001b[01m\u001b[K/home/jisus/ftad/current/mn/mn-tps/metnum-tp2/src/main_test.cpp:22:12:\u001b[m\u001b[K \u001b[01;35m\u001b[Kwarning: \u001b[m\u001b[Kunused variable ‘\u001b[01m\u001b[Ktolerance_epsilon\u001b[m\u001b[K’ [\u001b[01;35m\u001b[K-Wunused-variable\u001b[m\u001b[K]\n",
      "     double \u001b[01;35m\u001b[Ktolerance_epsilon\u001b[m\u001b[K = 0.001;\n",
      "            \u001b[01;35m\u001b[K^~~~~~~~~~~~~~~~~\u001b[m\u001b[K\n",
      "\u001b[01m\u001b[K/home/jisus/ftad/current/mn/mn-tps/metnum-tp2/src/main_test.cpp:\u001b[m\u001b[K In function ‘\u001b[01m\u001b[Kvoid TestMetodoDeflacionDiagonal()\u001b[m\u001b[K’:\n",
      "\u001b[01m\u001b[K/home/jisus/ftad/current/mn/mn-tps/metnum-tp2/src/main_test.cpp:46:12:\u001b[m\u001b[K \u001b[01;35m\u001b[Kwarning: \u001b[m\u001b[Kunused variable ‘\u001b[01m\u001b[Ktolerance_epsilon\u001b[m\u001b[K’ [\u001b[01;35m\u001b[K-Wunused-variable\u001b[m\u001b[K]\n",
      "     double \u001b[01;35m\u001b[Ktolerance_epsilon\u001b[m\u001b[K = 0.001;\n",
      "            \u001b[01;35m\u001b[K^~~~~~~~~~~~~~~~~\u001b[m\u001b[K\n",
      "[ 77%] \u001b[32mBuilding CXX object CMakeFiles/tp2_tests.dir/src/utils.cpp.o\u001b[0m\n",
      "[ 83%] \u001b[32mBuilding CXX object CMakeFiles/tp2_tests.dir/src/knn.cpp.o\u001b[0m\n",
      "[ 88%] \u001b[32mBuilding CXX object CMakeFiles/tp2_tests.dir/src/pca.cpp.o\u001b[0m\n",
      "[ 94%] \u001b[32mBuilding CXX object CMakeFiles/tp2_tests.dir/src/eigen.cpp.o\u001b[0m\n",
      "[100%] \u001b[32m\u001b[1mLinking CXX executable tp2_tests\u001b[0m\n",
      "[100%] Built target tp2_tests\n",
      "\u001b[36mInstall the project...\u001b[0m\n",
      "-- Install configuration: \"Release\"\n",
      "-- Installing: /home/jisus/ftad/current/mn/mn-tps/metnum-tp2/notebooks/metnum.cpython-35m-x86_64-linux-gnu.so\n"
     ]
    }
   ],
   "source": [
    "!cd .. && mkdir build\n",
    "!cd ../build/ && rm -rf *\n",
    "!cd ../build && cmake \\\n",
    "  -DPYTHON_EXECUTABLE=\"$(which python3)\" \\\n",
    "  -DCMAKE_BUILD_TYPE=Release ..\n",
    "!cd ../build && make install"
   ]
  },
  {
   "cell_type": "markdown",
   "metadata": {},
   "source": [
    "## Explorando los datos"
   ]
  },
  {
   "cell_type": "code",
   "execution_count": 2,
   "metadata": {},
   "outputs": [],
   "source": [
    "%load_ext autoreload\n",
    "%autoreload 2\n",
    "import pandas as pd\n",
    "import numpy as np\n",
    "\n",
    "df_train_complete = pd.read_csv(\"../data/train.csv\")"
   ]
  },
  {
   "cell_type": "code",
   "execution_count": 9,
   "metadata": {},
   "outputs": [],
   "source": [
    "#%load_ext jupyternotify\n",
    "import metnum\n",
    "from IPython.display import Javascript\n",
    "import matplotlib.pyplot as plt\n",
    "\n",
    "from sklearn.metrics import accuracy_score\n",
    "from sklearn.metrics import recall_score\n",
    "from sklearn.metrics import precision_score\n",
    "from sklearn.metrics import f1_score\n",
    "import time"
   ]
  },
  {
   "cell_type": "code",
   "execution_count": 31,
   "metadata": {},
   "outputs": [
    {
     "name": "stdout",
     "output_type": "stream",
     "text": [
      "CPU times: user 35min 53s, sys: 11.9 s, total: 36min 5s\n",
      "Wall time: 36min 4s\n"
     ]
    },
    {
     "data": {
      "application/javascript": [
       "new Notification('Cell Execution Has Finished')"
      ],
      "text/plain": [
       "<IPython.core.display.Javascript object>"
      ]
     },
     "execution_count": 31,
     "metadata": {},
     "output_type": "execute_result"
    }
   ],
   "source": [
    "%%time\n",
    "begin = 10000\n",
    "end = 30001\n",
    "step = 1000\n",
    "\n",
    "n = begin\n",
    "k = 3\n",
    "ns = np.empty(0, dtype='d')\n",
    "ac = np.empty(0, dtype='d')\n",
    "tm = np.empty(0, dtype='d')\n",
    "f1 = np.empty(0, dtype='d')\n",
    "\n",
    "while n < end:\n",
    "    df_train = df_train_complete[:n]\n",
    "    X = df_train[df_train.columns[1:]].values\n",
    "    y = df_train[\"label\"].values.reshape(-1, 1)\n",
    "    \n",
    "    limit = int(0.8 * X.shape[0]) \n",
    "    X_train, y_train = X[:limit], y[:limit]\n",
    "    X_val, y_val = X[limit:], y[limit:]\n",
    "    assert len(X_train) == len(y_train)\n",
    "    assert len(X_val) == len(y_val)\n",
    "    \n",
    "    \n",
    "    start = time.perf_counter()\n",
    "    clf = metnum.KNNClassifier(k)\n",
    "    clf.fit(X_train, y_train)\n",
    "    y_pred = clf.predict(X_val)\n",
    "    stop = time.perf_counter()\n",
    "    ac_score = accuracy_score(y_val, y_pred)\n",
    "    f1_sc = f1_score(y_val, y_pred, labels = [0,1,2,3,4,5,6,7,8,9], average='macro')  \n",
    "    ac = np.append(ac, ac_score)\n",
    "    f1 = np.append(f1, f1_sc)\n",
    "    ns = np.append(ns, n)\n",
    "    tm = np.append(tm, (stop-start)) # secs\n",
    "    n += step\n",
    "\n",
    "Javascript(\"new Notification('Cell Execution Has Finished')\")"
   ]
  },
  {
   "cell_type": "code",
   "execution_count": 32,
   "metadata": {},
   "outputs": [
    {
     "name": "stdout",
     "output_type": "stream",
     "text": [
      "[ 23.6418919   29.12378216  33.33613272  40.00083716  44.9680524\n",
      "  53.35912647  59.30667823  68.45973724  74.75774414  85.41065589\n",
      "  91.84848149 105.97872057 114.8377581  127.87982083 135.51951975\n",
      " 151.85775721 159.09667668 173.22784853 183.07196903 198.81169198\n",
      " 207.44423051]\n",
      "[10000. 11000. 12000. 13000. 14000. 15000. 16000. 17000. 18000. 19000.\n",
      " 20000. 21000. 22000. 23000. 24000. 25000. 26000. 27000. 28000. 29000.\n",
      " 30000.]\n",
      "[0.862      0.85772727 0.86375    0.86807692 0.86785714 0.85666667\n",
      " 0.86       0.85970588 0.86638889 0.86315789 0.86575    0.86690476\n",
      " 0.8675     0.87195652 0.87354167 0.8696     0.87134615 0.87277778\n",
      " 0.87035714 0.86706897 0.86783333]\n",
      "[0.82622242 0.81395531 0.81802123 0.82517664 0.82732392 0.82216644\n",
      " 0.82413382 0.82493224 0.82820025 0.82684563 0.8274333  0.83071178\n",
      " 0.82941315 0.8321063  0.83289427 0.83260205 0.83284111 0.83418563\n",
      " 0.83429528 0.8339792  0.83443159]\n"
     ]
    }
   ],
   "source": [
    "#%%notify\n",
    "print(tm)\n",
    "print(ns)\n",
    "print(ac)\n",
    "print(f1)"
   ]
  },
  {
   "cell_type": "code",
   "execution_count": 36,
   "metadata": {},
   "outputs": [
    {
     "data": {
      "image/png": "[encoded data removed]",
      "text/plain": [
       "<Figure size 432x288 with 1 Axes>"
      ]
     },
     "metadata": {
      "needs_background": "light"
     },
     "output_type": "display_data"
    }
   ],
   "source": [
    "plt.plot(ns, ac, color='green', marker='o', linestyle='dashed',linewidth=2)\n",
    "plt.ylabel('Accuracy')\n",
    "plt.xlabel('n')\n",
    "plt.grid()\n",
    "plt.savefig(\"kNN-tt-n_vs_acc-{}_{}_{}-k{}.png\".format(begin, end, step, k)) # var-begin_end_step-n"
   ]
  },
  {
   "cell_type": "code",
   "execution_count": 34,
   "metadata": {},
   "outputs": [
    {
     "data": {
      "image/png": "[encoded data removed]",
      "text/plain": [
       "<Figure size 432x288 with 1 Axes>"
      ]
     },
     "metadata": {
      "needs_background": "light"
     },
     "output_type": "display_data"
    }
   ],
   "source": [
    "plt.plot(ns, tm, color='green', marker='o', linestyle='dashed', linewidth=2)\n",
    "plt.ylabel('Time (secs)')\n",
    "plt.xlabel('n')\n",
    "plt.savefig(\"kNN-tt-n_vs_time-{}_{}_{}-k{}.png\".format(begin, end, step, k)) # var-begin_end_step-n"
   ]
  },
  {
   "cell_type": "code",
   "execution_count": 37,
   "metadata": {},
   "outputs": [
    {
     "data": {
      "image/png": "[encoded data removed]",
      "text/plain": [
       "<Figure size 432x288 with 1 Axes>"
      ]
     },
     "metadata": {
      "needs_background": "light"
     },
     "output_type": "display_data"
    }
   ],
   "source": [
    "plt.plot(ns, f1, color='green', marker='o', linestyle='dashed', linewidth=2)\n",
    "plt.ylabel('F1 Score')\n",
    "plt.xlabel('n')\n",
    "plt.grid()\n",
    "plt.savefig(\"kNN-tt-n_vs_F1-{}_{}_{}-k{}.png\".format(begin, end, step, k)) # var-begin_end_step-n"
   ]
  }
 ],
 "metadata": {
  "kernelspec": {
   "display_name": "Python 3",
   "language": "python",
   "name": "python3"
  },
  "language_info": {
   "codemirror_mode": {
    "name": "ipython",
    "version": 3
   },
   "file_extension": ".py",
   "mimetype": "text/x-python",
   "name": "python",
   "nbconvert_exporter": "python",
   "pygments_lexer": "ipython3",
   "version": "3.5.3"
  }
 },
 "nbformat": 4,
 "nbformat_minor": 4
}
