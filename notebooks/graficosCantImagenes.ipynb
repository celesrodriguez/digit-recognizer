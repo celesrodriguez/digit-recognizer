{
 "cells": [
  {
   "cell_type": "code",
   "execution_count": 12,
   "metadata": {},
   "outputs": [],
   "source": [
    "import numpy as np\n",
    "import pandas as pd\n",
    "import seaborn as sns\n",
    "import matplotlib.pyplot as plt\n",
    "from sklearn.covariance import empirical_covariance"
   ]
  },
  {
   "cell_type": "code",
   "execution_count": 34,
   "metadata": {},
   "outputs": [],
   "source": [
    "accuracy = pd.DataFrame(\n",
    "    [[0.794,  0.848667, 0.8534 , 0.870133, 0.87332, 0.875629 , 0.876286],\n",
    "     [0.820, 0.840667, 0.8550, 0.871800, 0.87592, 0.879686, 0.881405],\n",
    "     [0.825, 0.837667, 0.8544, 0.871400, 0.87540, 0.879400, 0.881190],\n",
    "     [0.822, 0.840667, 0.8528, 0.870333, 0.87508, 0.879657, 0.881071]],\n",
    "    index=['k=1, alfa=31', 'k=3, alfa=34', 'k=5, alfa=40', 'k=7, alfa=31'],\n",
    "    columns=[1000, 3000, 5000, 15000, 25000, 35000, 42000]\n",
    ")\n",
    "\n",
    "recall = pd.DataFrame(\n",
    "    [[0.793149, 0.842868, 0.846647 , 0.867374, 0.873149, 0.874915 , 0.875802],\n",
    "     [0.822185, 0.845402, 0.860558, 0.871935, 0.876011, 0.878550, 0.880952],\n",
    "     [0.827731, 0.842144, 0.859955, 0.871427, 0.875451, 0.878207, 0.880687],\n",
    "     [0.824439, 0.845695, 0.858407, 0.870422, 0.875181, 0.878518, 0.880645]],\n",
    "    index=['k=1, alfa=31', 'k=3, alfa=34', 'k=5, alfa=40', 'k=7, alfa=31'],\n",
    "    columns=[1000, 3000, 5000, 15000, 25000, 35000, 42000]\n",
    ")"
   ]
  },
  {
   "cell_type": "code",
   "execution_count": 35,
   "metadata": {},
   "outputs": [
    {
     "data": {
      "text/html": [
       "<style  type=\"text/css\" >\n",
       "    #T_862f50ce_ab93_11ea_ae7d_4a00058b2f80row1_col2 {\n",
       "            background-color:  violet;\n",
       "        }    #T_862f50ce_ab93_11ea_ae7d_4a00058b2f80row1_col3 {\n",
       "            background-color:  violet;\n",
       "        }    #T_862f50ce_ab93_11ea_ae7d_4a00058b2f80row1_col4 {\n",
       "            background-color:  violet;\n",
       "        }    #T_862f50ce_ab93_11ea_ae7d_4a00058b2f80row1_col5 {\n",
       "            background-color:  violet;\n",
       "        }    #T_862f50ce_ab93_11ea_ae7d_4a00058b2f80row1_col6 {\n",
       "            background-color:  violet;\n",
       "        }    #T_862f50ce_ab93_11ea_ae7d_4a00058b2f80row2_col0 {\n",
       "            background-color:  violet;\n",
       "        }    #T_862f50ce_ab93_11ea_ae7d_4a00058b2f80row3_col1 {\n",
       "            background-color:  violet;\n",
       "        }</style><table id=\"T_862f50ce_ab93_11ea_ae7d_4a00058b2f80\" ><thead>    <tr>        <th class=\"blank level0\" ></th>        <th class=\"col_heading level0 col0\" >1000</th>        <th class=\"col_heading level0 col1\" >3000</th>        <th class=\"col_heading level0 col2\" >5000</th>        <th class=\"col_heading level0 col3\" >15000</th>        <th class=\"col_heading level0 col4\" >25000</th>        <th class=\"col_heading level0 col5\" >35000</th>        <th class=\"col_heading level0 col6\" >42000</th>    </tr></thead><tbody>\n",
       "                <tr>\n",
       "                        <th id=\"T_862f50ce_ab93_11ea_ae7d_4a00058b2f80level0_row0\" class=\"row_heading level0 row0\" >k=1, alfa=31</th>\n",
       "                        <td id=\"T_862f50ce_ab93_11ea_ae7d_4a00058b2f80row0_col0\" class=\"data row0 col0\" >0.793149</td>\n",
       "                        <td id=\"T_862f50ce_ab93_11ea_ae7d_4a00058b2f80row0_col1\" class=\"data row0 col1\" >0.842868</td>\n",
       "                        <td id=\"T_862f50ce_ab93_11ea_ae7d_4a00058b2f80row0_col2\" class=\"data row0 col2\" >0.846647</td>\n",
       "                        <td id=\"T_862f50ce_ab93_11ea_ae7d_4a00058b2f80row0_col3\" class=\"data row0 col3\" >0.867374</td>\n",
       "                        <td id=\"T_862f50ce_ab93_11ea_ae7d_4a00058b2f80row0_col4\" class=\"data row0 col4\" >0.873149</td>\n",
       "                        <td id=\"T_862f50ce_ab93_11ea_ae7d_4a00058b2f80row0_col5\" class=\"data row0 col5\" >0.874915</td>\n",
       "                        <td id=\"T_862f50ce_ab93_11ea_ae7d_4a00058b2f80row0_col6\" class=\"data row0 col6\" >0.875802</td>\n",
       "            </tr>\n",
       "            <tr>\n",
       "                        <th id=\"T_862f50ce_ab93_11ea_ae7d_4a00058b2f80level0_row1\" class=\"row_heading level0 row1\" >k=3, alfa=34</th>\n",
       "                        <td id=\"T_862f50ce_ab93_11ea_ae7d_4a00058b2f80row1_col0\" class=\"data row1 col0\" >0.822185</td>\n",
       "                        <td id=\"T_862f50ce_ab93_11ea_ae7d_4a00058b2f80row1_col1\" class=\"data row1 col1\" >0.845402</td>\n",
       "                        <td id=\"T_862f50ce_ab93_11ea_ae7d_4a00058b2f80row1_col2\" class=\"data row1 col2\" >0.860558</td>\n",
       "                        <td id=\"T_862f50ce_ab93_11ea_ae7d_4a00058b2f80row1_col3\" class=\"data row1 col3\" >0.871935</td>\n",
       "                        <td id=\"T_862f50ce_ab93_11ea_ae7d_4a00058b2f80row1_col4\" class=\"data row1 col4\" >0.876011</td>\n",
       "                        <td id=\"T_862f50ce_ab93_11ea_ae7d_4a00058b2f80row1_col5\" class=\"data row1 col5\" >0.878550</td>\n",
       "                        <td id=\"T_862f50ce_ab93_11ea_ae7d_4a00058b2f80row1_col6\" class=\"data row1 col6\" >0.880952</td>\n",
       "            </tr>\n",
       "            <tr>\n",
       "                        <th id=\"T_862f50ce_ab93_11ea_ae7d_4a00058b2f80level0_row2\" class=\"row_heading level0 row2\" >k=5, alfa=40</th>\n",
       "                        <td id=\"T_862f50ce_ab93_11ea_ae7d_4a00058b2f80row2_col0\" class=\"data row2 col0\" >0.827731</td>\n",
       "                        <td id=\"T_862f50ce_ab93_11ea_ae7d_4a00058b2f80row2_col1\" class=\"data row2 col1\" >0.842144</td>\n",
       "                        <td id=\"T_862f50ce_ab93_11ea_ae7d_4a00058b2f80row2_col2\" class=\"data row2 col2\" >0.859955</td>\n",
       "                        <td id=\"T_862f50ce_ab93_11ea_ae7d_4a00058b2f80row2_col3\" class=\"data row2 col3\" >0.871427</td>\n",
       "                        <td id=\"T_862f50ce_ab93_11ea_ae7d_4a00058b2f80row2_col4\" class=\"data row2 col4\" >0.875451</td>\n",
       "                        <td id=\"T_862f50ce_ab93_11ea_ae7d_4a00058b2f80row2_col5\" class=\"data row2 col5\" >0.878207</td>\n",
       "                        <td id=\"T_862f50ce_ab93_11ea_ae7d_4a00058b2f80row2_col6\" class=\"data row2 col6\" >0.880687</td>\n",
       "            </tr>\n",
       "            <tr>\n",
       "                        <th id=\"T_862f50ce_ab93_11ea_ae7d_4a00058b2f80level0_row3\" class=\"row_heading level0 row3\" >k=7, alfa=31</th>\n",
       "                        <td id=\"T_862f50ce_ab93_11ea_ae7d_4a00058b2f80row3_col0\" class=\"data row3 col0\" >0.824439</td>\n",
       "                        <td id=\"T_862f50ce_ab93_11ea_ae7d_4a00058b2f80row3_col1\" class=\"data row3 col1\" >0.845695</td>\n",
       "                        <td id=\"T_862f50ce_ab93_11ea_ae7d_4a00058b2f80row3_col2\" class=\"data row3 col2\" >0.858407</td>\n",
       "                        <td id=\"T_862f50ce_ab93_11ea_ae7d_4a00058b2f80row3_col3\" class=\"data row3 col3\" >0.870422</td>\n",
       "                        <td id=\"T_862f50ce_ab93_11ea_ae7d_4a00058b2f80row3_col4\" class=\"data row3 col4\" >0.875181</td>\n",
       "                        <td id=\"T_862f50ce_ab93_11ea_ae7d_4a00058b2f80row3_col5\" class=\"data row3 col5\" >0.878518</td>\n",
       "                        <td id=\"T_862f50ce_ab93_11ea_ae7d_4a00058b2f80row3_col6\" class=\"data row3 col6\" >0.880645</td>\n",
       "            </tr>\n",
       "    </tbody></table>"
      ],
      "text/plain": [
       "<pandas.io.formats.style.Styler at 0x1a1a2f36d0>"
      ]
     },
     "execution_count": 35,
     "metadata": {},
     "output_type": "execute_result"
    }
   ],
   "source": [
    "def style_specific_cell(x):\n",
    "    #lo hice a ojo xq soy una rancia xd\n",
    "    color = 'background-color: violet'\n",
    "    df1 = pd.DataFrame('', index=x.index, columns=x.columns)\n",
    "    df1.iloc[2, 0] = color\n",
    "    df1.iloc[3, 1] = color\n",
    "    df1.iloc[1, 2] = color\n",
    "    df1.iloc[1, 3] = color\n",
    "    df1.iloc[1, 4] = color\n",
    "    df1.iloc[1, 5] = color\n",
    "    df1.iloc[1, 6] = color\n",
    "    return df1\n",
    "\n",
    "#accuracy.style.apply(style_specific_cell, axis=None)\n",
    "recall.style.apply(style_specific_cell, axis=None)"
   ]
  },
  {
   "cell_type": "code",
   "execution_count": 36,
   "metadata": {},
   "outputs": [
    {
     "ename": "NameError",
     "evalue": "name 'df' is not defined",
     "output_type": "error",
     "traceback": [
      "\u001b[0;31m---------------------------------------------------------------------------\u001b[0m",
      "\u001b[0;31mNameError\u001b[0m                                 Traceback (most recent call last)",
      "\u001b[0;32m<ipython-input-36-4e3995a7689c>\u001b[0m in \u001b[0;36m<module>\u001b[0;34m\u001b[0m\n\u001b[0;32m----> 1\u001b[0;31m \u001b[0mdf\u001b[0m\u001b[0;34m.\u001b[0m\u001b[0mto_csv\u001b[0m\u001b[0;34m(\u001b[0m\u001b[0;34m\"csvs/k-alfa_vs_n.csv\"\u001b[0m\u001b[0;34m)\u001b[0m\u001b[0;34m\u001b[0m\u001b[0;34m\u001b[0m\u001b[0m\n\u001b[0m",
      "\u001b[0;31mNameError\u001b[0m: name 'df' is not defined"
     ]
    }
   ],
   "source": [
    "df.to_csv(\"csvs/k-alfa_vs_n.csv\")"
   ]
  },
  {
   "cell_type": "code",
   "execution_count": 37,
   "metadata": {},
   "outputs": [
    {
     "data": {
      "image/png": "[encoded data removed]",
      "text/plain": [
       "<Figure size 432x288 with 1 Axes>"
      ]
     },
     "metadata": {
      "needs_background": "light"
     },
     "output_type": "display_data"
    }
   ],
   "source": [
    "sns.lineplot(x=accuracy.columns, y=accuracy.loc['k=1, alfa=31',:])\n",
    "sns.lineplot(x=accuracy.columns, y=accuracy.loc['k=3, alfa=34',:])\n",
    "sns.lineplot(x=accuracy.columns, y=accuracy.loc['k=5, alfa=40',:])\n",
    "sns.lineplot(x=accuracy.columns, y=accuracy.loc['k=7, alfa=31',:])\n",
    "#plt.title(\"Accuracy de pares k,alfa vs cantidad de imágenes\")\n",
    "plt.ylabel(\"Accuracy\")\n",
    "plt.xlabel(\"Cantidad de Imágenes\")\n",
    "plt.xticks(accuracy.columns, rotation=60)\n",
    "plt.legend(accuracy.index)\n",
    "plt.savefig('mejorCombinacionTodosAccuracy.png')\n",
    "plt.grid()"
   ]
  },
  {
   "cell_type": "code",
   "execution_count": 38,
   "metadata": {},
   "outputs": [
    {
     "data": {
      "image/png": "[encoded data removed]",
      "text/plain": [
       "<Figure size 432x288 with 1 Axes>"
      ]
     },
     "metadata": {
      "needs_background": "light"
     },
     "output_type": "display_data"
    }
   ],
   "source": [
    "sns.lineplot(x=recall.columns, y=recall.loc['k=1, alfa=31',:])\n",
    "sns.lineplot(x=recall.columns, y=recall.loc['k=3, alfa=34',:])\n",
    "sns.lineplot(x=recall.columns, y=recall.loc['k=5, alfa=40',:])\n",
    "sns.lineplot(x=recall.columns, y=recall.loc['k=7, alfa=31',:])\n",
    "#plt.title(\"Accuracy de pares k,alfa vs cantidad de imágenes\")\n",
    "plt.ylabel(\"Recall\")\n",
    "plt.xlabel(\"Cantidad de Imágenes\")\n",
    "plt.xticks(recall.columns, rotation=60)\n",
    "plt.legend(recall.index)\n",
    "plt.savefig('mejorCombinacionTodosRecall.png')\n",
    "plt.grid()"
   ]
  },
  {
   "cell_type": "code",
   "execution_count": 33,
   "metadata": {},
   "outputs": [
    {
     "ename": "NameError",
     "evalue": "name 'df' is not defined",
     "output_type": "error",
     "traceback": [
      "\u001b[0;31m---------------------------------------------------------------------------\u001b[0m",
      "\u001b[0;31mNameError\u001b[0m                                 Traceback (most recent call last)",
      "\u001b[0;32m<ipython-input-33-b007c17ca8b1>\u001b[0m in \u001b[0;36m<module>\u001b[0;34m\u001b[0m\n\u001b[1;32m      1\u001b[0m \u001b[0midx\u001b[0m \u001b[0;34m=\u001b[0m \u001b[0;34m[\u001b[0m\u001b[0;36m1\u001b[0m\u001b[0;34m,\u001b[0m\u001b[0;36m3\u001b[0m\u001b[0;34m,\u001b[0m\u001b[0;36m5\u001b[0m\u001b[0;34m,\u001b[0m\u001b[0;36m7\u001b[0m\u001b[0;34m]\u001b[0m\u001b[0;34m\u001b[0m\u001b[0;34m\u001b[0m\u001b[0m\n\u001b[0;32m----> 2\u001b[0;31m \u001b[0;32mfor\u001b[0m \u001b[0mn\u001b[0m \u001b[0;32min\u001b[0m \u001b[0mdf\u001b[0m\u001b[0;34m.\u001b[0m\u001b[0mcolumns\u001b[0m\u001b[0;34m:\u001b[0m\u001b[0;34m\u001b[0m\u001b[0;34m\u001b[0m\u001b[0m\n\u001b[0m\u001b[1;32m      3\u001b[0m     \u001b[0msns\u001b[0m\u001b[0;34m.\u001b[0m\u001b[0mlineplot\u001b[0m\u001b[0;34m(\u001b[0m\u001b[0mx\u001b[0m\u001b[0;34m=\u001b[0m\u001b[0midx\u001b[0m\u001b[0;34m,\u001b[0m \u001b[0my\u001b[0m\u001b[0;34m=\u001b[0m\u001b[0mdf\u001b[0m\u001b[0;34m.\u001b[0m\u001b[0mloc\u001b[0m\u001b[0;34m[\u001b[0m\u001b[0;34m:\u001b[0m\u001b[0;34m,\u001b[0m\u001b[0mn\u001b[0m\u001b[0;34m]\u001b[0m\u001b[0;34m)\u001b[0m\u001b[0;34m\u001b[0m\u001b[0;34m\u001b[0m\u001b[0m\n\u001b[1;32m      4\u001b[0m \u001b[0mplt\u001b[0m\u001b[0;34m.\u001b[0m\u001b[0mtitle\u001b[0m\u001b[0;34m(\u001b[0m\u001b[0;34m\"Accuracy de cantidad de imágenes vs pares de k,alfa\"\u001b[0m\u001b[0;34m)\u001b[0m\u001b[0;34m\u001b[0m\u001b[0;34m\u001b[0m\u001b[0m\n\u001b[1;32m      5\u001b[0m \u001b[0mplt\u001b[0m\u001b[0;34m.\u001b[0m\u001b[0mylabel\u001b[0m\u001b[0;34m(\u001b[0m\u001b[0;34m\"Accuracy\"\u001b[0m\u001b[0;34m)\u001b[0m\u001b[0;34m\u001b[0m\u001b[0;34m\u001b[0m\u001b[0m\n",
      "\u001b[0;31mNameError\u001b[0m: name 'df' is not defined"
     ]
    }
   ],
   "source": [
    "idx = [1,3,5,7]\n",
    "for n in df.columns:\n",
    "    sns.lineplot(x=idx, y=df.loc[:,n])\n",
    "plt.title(\"Accuracy de cantidad de imágenes vs pares de k,alfa\")\n",
    "plt.ylabel(\"Accuracy\")\n",
    "plt.xlabel(\"Pares k,alfa\")\n",
    "plt.legend([\"n={}\".format(n) for n in df.columns])\n",
    "plt.xticks(ticks=idx, labels=df.index)\n",
    "plt.grid()\n",
    "\n",
    "(\"n={}\".format(n) for n in df.columns)"
   ]
  },
  {
   "cell_type": "code",
   "execution_count": 7,
   "metadata": {},
   "outputs": [
    {
     "data": {
      "text/plain": [
       "<matplotlib.axes._subplots.AxesSubplot at 0x7fe5441cd550>"
      ]
     },
     "execution_count": 7,
     "metadata": {},
     "output_type": "execute_result"
    },
    {
     "data": {
      "image/png": "[encoded data removed]",
      "text/plain": [
       "<Figure size 432x288 with 2 Axes>"
      ]
     },
     "metadata": {
      "needs_background": "light"
     },
     "output_type": "display_data"
    }
   ],
   "source": [
    "sns.heatmap(df)"
   ]
  },
  {
   "cell_type": "code",
   "execution_count": 8,
   "metadata": {},
   "outputs": [
    {
     "data": {
      "text/plain": [
       "<matplotlib.axes._subplots.AxesSubplot at 0x7fe5441a85c0>"
      ]
     },
     "execution_count": 8,
     "metadata": {},
     "output_type": "execute_result"
    },
    {
     "data": {
      "image/png": "[encoded data removed]",
      "text/plain": [
       "<Figure size 432x288 with 2 Axes>"
      ]
     },
     "metadata": {
      "needs_background": "light"
     },
     "output_type": "display_data"
    }
   ],
   "source": [
    "sns.heatmap(df.loc[:,15000:])"
   ]
  },
  {
   "cell_type": "code",
   "execution_count": 9,
   "metadata": {},
   "outputs": [
    {
     "data": {
      "text/plain": [
       "<matplotlib.axes._subplots.AxesSubplot at 0x7fe544111be0>"
      ]
     },
     "execution_count": 9,
     "metadata": {},
     "output_type": "execute_result"
    },
    {
     "data": {
      "image/png": "[encoded data removed]",
      "text/plain": [
       "<Figure size 432x288 with 2 Axes>"
      ]
     },
     "metadata": {
      "needs_background": "light"
     },
     "output_type": "display_data"
    }
   ],
   "source": [
    "sns.heatmap(df.loc[:,35000:])"
   ]
  },
  {
   "cell_type": "code",
   "execution_count": 10,
   "metadata": {},
   "outputs": [
    {
     "data": {
      "text/plain": [
       "array([[0.82    , 0.840667, 0.855   , 0.8718  , 0.87592 , 0.879686,\n",
       "        0.881405],\n",
       "       [0.822   , 0.844   , 0.8538  , 0.8714  , 0.87556 , 0.879943,\n",
       "        0.881071],\n",
       "       [0.825   , 0.837667, 0.8544  , 0.8714  , 0.8754  , 0.8794  ,\n",
       "        0.88119 ],\n",
       "       [0.822   , 0.840667, 0.8528  , 0.870333, 0.87508 , 0.879657,\n",
       "        0.881071]])"
      ]
     },
     "execution_count": 10,
     "metadata": {},
     "output_type": "execute_result"
    }
   ],
   "source": [
    "df.to_numpy()"
   ]
  },
  {
   "cell_type": "code",
   "execution_count": 11,
   "metadata": {},
   "outputs": [],
   "source": [
    "M = empirical_covariance(df.to_numpy())"
   ]
  },
  {
   "cell_type": "code",
   "execution_count": 12,
   "metadata": {},
   "outputs": [
    {
     "data": {
      "text/plain": [
       "array([[ 3.18750000e-06, -2.27081250e-06, -2.00000000e-07,\n",
       "        -1.58312500e-07, -2.82500000e-07, -2.10875000e-07,\n",
       "        -1.06062500e-07],\n",
       "       [-2.27081250e-06,  5.02029169e-06, -4.66650000e-07,\n",
       "         1.38819375e-08,  1.25827500e-07,  4.29852375e-07,\n",
       "        -9.86780625e-08],\n",
       "       [-2.00000000e-07, -4.66650000e-07,  6.60000000e-07,\n",
       "         4.20100000e-07,  2.18000000e-07, -3.27500000e-08,\n",
       "         9.54000000e-08],\n",
       "       [-1.58312500e-07,  1.38819375e-08,  4.20100000e-07,\n",
       "         2.96816687e-07,  1.52367500e-07,  5.31787500e-09,\n",
       "         5.22844375e-08],\n",
       "       [-2.82500000e-07,  1.25827500e-07,  2.18000000e-07,\n",
       "         1.52367500e-07,  9.15000000e-08,  1.39050000e-08,\n",
       "         3.32275000e-08],\n",
       "       [-2.10875000e-07,  4.29852375e-07, -3.27500000e-08,\n",
       "         5.31787500e-09,  1.39050000e-08,  3.69612500e-08,\n",
       "        -6.86637500e-09],\n",
       "       [-1.06062500e-07, -9.86780625e-08,  9.54000000e-08,\n",
       "         5.22844375e-08,  3.32275000e-08, -6.86637500e-09,\n",
       "         1.86036875e-08]])"
      ]
     },
     "execution_count": 12,
     "metadata": {},
     "output_type": "execute_result"
    }
   ],
   "source": [
    "M"
   ]
  },
  {
   "cell_type": "code",
   "execution_count": 13,
   "metadata": {},
   "outputs": [
    {
     "data": {
      "text/plain": [
       "9.724464668367028e-08"
      ]
     },
     "execution_count": 13,
     "metadata": {},
     "output_type": "execute_result"
    }
   ],
   "source": [
    "np.mean(M)"
   ]
  },
  {
   "cell_type": "code",
   "execution_count": 14,
   "metadata": {},
   "outputs": [
    {
     "data": {
      "text/plain": [
       "9.848635669535624e-07"
      ]
     },
     "execution_count": 14,
     "metadata": {},
     "output_type": "execute_result"
    }
   ],
   "source": [
    "np.std(M)"
   ]
  },
  {
   "cell_type": "code",
   "execution_count": 15,
   "metadata": {},
   "outputs": [
    {
     "data": {
      "text/plain": [
       "5.020291687499873e-06"
      ]
     },
     "execution_count": 15,
     "metadata": {},
     "output_type": "execute_result"
    }
   ],
   "source": [
    "np.max(M)"
   ]
  },
  {
   "cell_type": "code",
   "execution_count": null,
   "metadata": {},
   "outputs": [],
   "source": []
  },
  {
   "cell_type": "code",
   "execution_count": 16,
   "metadata": {},
   "outputs": [
    {
     "data": {
      "text/html": [
       "<div>\n",
       "<style scoped>\n",
       "    .dataframe tbody tr th:only-of-type {\n",
       "        vertical-align: middle;\n",
       "    }\n",
       "\n",
       "    .dataframe tbody tr th {\n",
       "        vertical-align: top;\n",
       "    }\n",
       "\n",
       "    .dataframe thead th {\n",
       "        text-align: right;\n",
       "    }\n",
       "</style>\n",
       "<table border=\"1\" class=\"dataframe\">\n",
       "  <thead>\n",
       "    <tr style=\"text-align: right;\">\n",
       "      <th></th>\n",
       "      <th>0</th>\n",
       "      <th>1</th>\n",
       "      <th>2</th>\n",
       "    </tr>\n",
       "  </thead>\n",
       "  <tbody>\n",
       "    <tr>\n",
       "      <th>0</th>\n",
       "      <td>7</td>\n",
       "      <td>8</td>\n",
       "      <td>9</td>\n",
       "    </tr>\n",
       "    <tr>\n",
       "      <th>1</th>\n",
       "      <td>7</td>\n",
       "      <td>8</td>\n",
       "      <td>9</td>\n",
       "    </tr>\n",
       "  </tbody>\n",
       "</table>\n",
       "</div>"
      ],
      "text/plain": [
       "   0  1  2\n",
       "0  7  8  9\n",
       "1  7  8  9"
      ]
     },
     "execution_count": 16,
     "metadata": {},
     "output_type": "execute_result"
    }
   ],
   "source": [
    "#test = df.loc['k=3, alfa=34',:]\n",
    "test = pd.DataFrame(\n",
    "    [[7, 8, 9],\n",
    "#     [6, 7, 8]]\n",
    "     [7, 8, 9]]\n",
    ")\n",
    "test"
   ]
  },
  {
   "cell_type": "code",
   "execution_count": 17,
   "metadata": {},
   "outputs": [
    {
     "data": {
      "text/plain": [
       "array([[0., 0., 0.],\n",
       "       [0., 0., 0.],\n",
       "       [0., 0., 0.]])"
      ]
     },
     "execution_count": 17,
     "metadata": {},
     "output_type": "execute_result"
    }
   ],
   "source": [
    "testM = empirical_covariance(test)\n",
    "testM"
   ]
  },
  {
   "cell_type": "code",
   "execution_count": 18,
   "metadata": {},
   "outputs": [
    {
     "name": "stdout",
     "output_type": "stream",
     "text": [
      "max: 0.0\n",
      "mean: 0.0\n",
      "std: 0.0\n"
     ]
    }
   ],
   "source": [
    "print(\"max: {}\".format(np.max(testM)))\n",
    "print(\"mean: {}\".format(np.mean(testM)))\n",
    "print(\"std: {}\".format(np.std(testM)))"
   ]
  },
  {
   "cell_type": "code",
   "execution_count": 19,
   "metadata": {},
   "outputs": [],
   "source": [
    "cov_mat = pd.DataFrame(\n",
    "    M,\n",
    "#    index=['k=3, alfa=34', 'k=4, alfa=41', 'k=5, alfa=40', 'k=7, alfa=41'],\n",
    "#    columns=[1000, 3000, 5000, 15000, 25000, 35000, 42000]\n",
    ")"
   ]
  },
  {
   "cell_type": "code",
   "execution_count": 20,
   "metadata": {},
   "outputs": [
    {
     "data": {
      "text/plain": [
       "<matplotlib.axes._subplots.AxesSubplot at 0x7fe5440d65f8>"
      ]
     },
     "execution_count": 20,
     "metadata": {},
     "output_type": "execute_result"
    },
    {
     "data": {
      "image/png": "[encoded data removed]",
      "text/plain": [
       "<Figure size 432x288 with 2 Axes>"
      ]
     },
     "metadata": {
      "needs_background": "light"
     },
     "output_type": "display_data"
    }
   ],
   "source": [
    "sns.heatmap(M)"
   ]
  }
 ],
 "metadata": {
  "kernelspec": {
   "display_name": "Python 3",
   "language": "python",
   "name": "python3"
  },
  "language_info": {
   "codemirror_mode": {
    "name": "ipython",
    "version": 3
   },
   "file_extension": ".py",
   "mimetype": "text/x-python",
   "name": "python",
   "nbconvert_exporter": "python",
   "pygments_lexer": "ipython3",
   "version": "3.7.6"
  }
 },
 "nbformat": 4,
 "nbformat_minor": 4
}
